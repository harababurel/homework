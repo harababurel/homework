{
 "cells": [
  {
   "cell_type": "code",
   "execution_count": 156,
   "metadata": {},
   "outputs": [],
   "source": [
    "# Gauss' method with partial pivoting\n",
    "\n",
    "function x = GaussElimination(A, b)\n",
    "    n = length(b);\n",
    "    \n",
    "    E = [A b];\n",
    "\n",
    "    for pivot = 1:n-1\n",
    "        # largest value beneath the pivot\n",
    "        [~, index] = max(abs(A(pivot:n, pivot)));\n",
    "        q = pivot + index - 1;\n",
    "        \n",
    "        # swap these two lines\n",
    "        if q != pivot\n",
    "            E([pivot q],:) = E([q pivot],:);\n",
    "        endif\n",
    "        \n",
    "        # manipulate all lines below the pivot in order to create zeros\n",
    "        for j = pivot+1:n\n",
    "            E(j,:) -= E(j, pivot) / E(pivot, pivot) * E(pivot, :);\n",
    "        endfor\n",
    "    endfor\n",
    "    \n",
    "    # extract the adjusted A and b\n",
    "    A = E(:,1:n);\n",
    "    b = E(:,n+1);\n",
    "    \n",
    "    # compute each component of x from right to left (bottom up in the matrix)\n",
    "    x = zeros(n, 1);\n",
    "    x(n) = b(n) / A(n, n);\n",
    "    for i = n-1:-1:1\n",
    "        x(i) = (b(i) - A(i, :) * x) / A(i, i);\n",
    "    endfor\n",
    "endfunction"
   ]
  },
  {
   "cell_type": "code",
   "execution_count": 157,
   "metadata": {},
   "outputs": [
    {
     "name": "stdout",
     "output_type": "stream",
     "text": [
      "A =\n",
      "\n",
      "   1   1   1   1\n",
      "   2   3   1   5\n",
      "  -1   1  -5   3\n",
      "   3   1   7  -2\n",
      "\n",
      "b =\n",
      "\n",
      "   10\n",
      "   31\n",
      "   -2\n",
      "   18\n",
      "\n",
      "x =\n",
      "\n",
      "   1.00000\n",
      "   2.00000\n",
      "   3.00000\n",
      "   4.00000\n",
      "\n",
      "x =\n",
      "\n",
      "   1.00000\n",
      "   2.00000\n",
      "   3.00000\n",
      "   4.00000\n",
      "\n"
     ]
    }
   ],
   "source": [
    "A = [1 1 1 1; 2 3 1 5; -1 1 -5 3; 3 1 7 -2]\n",
    "b = [10; 31; -2; 18]\n",
    "\n",
    "x = GaussElimination(A, b)\n",
    "x = A \\ b"
   ]
  },
  {
   "cell_type": "code",
   "execution_count": null,
   "metadata": {},
   "outputs": [],
   "source": []
  }
 ],
 "metadata": {
  "kernelspec": {
   "display_name": "Octave",
   "language": "octave",
   "name": "octave"
  },
  "language_info": {
   "file_extension": ".m",
   "help_links": [
    {
     "text": "GNU Octave",
     "url": "https://www.gnu.org/software/octave/support.html"
    },
    {
     "text": "Octave Kernel",
     "url": "https://github.com/Calysto/octave_kernel"
    },
    {
     "text": "MetaKernel Magics",
     "url": "https://github.com/calysto/metakernel/blob/master/metakernel/magics/README.md"
    }
   ],
   "mimetype": "text/x-octave",
   "name": "octave",
   "version": "4.4.0"
  }
 },
 "nbformat": 4,
 "nbformat_minor": 2
}
