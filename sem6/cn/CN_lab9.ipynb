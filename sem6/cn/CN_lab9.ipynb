{
 "cells": [
  {
   "cell_type": "code",
   "execution_count": 16,
   "metadata": {},
   "outputs": [
    {
     "name": "stdout",
     "output_type": "stream",
     "text": [
      "A =\n",
      "\n",
      "   10    7    8    7\n",
      "    7    5    6    5\n",
      "    8    6   10    9\n",
      "    7    5    9   10\n",
      "\n",
      "b =\n",
      "\n",
      "   32\n",
      "   23\n",
      "   33\n",
      "   31\n",
      "\n",
      "b_tilde =\n",
      "\n",
      "   32.100\n",
      "   22.900\n",
      "   33.100\n",
      "   30.900\n",
      "\n"
     ]
    }
   ],
   "source": [
    "# Problem 2\n",
    "\n",
    "A = [10 7  8  7;\n",
    "      7 5  6  5;\n",
    "      8 6 10  9;\n",
    "      7 5  9 10]\n",
    "\n",
    "b = [32; 23; 33; 31]\n",
    "b_tilde = [32.1; 22.9; 33.1; 30.9]"
   ]
  },
  {
   "cell_type": "code",
   "execution_count": 17,
   "metadata": {},
   "outputs": [
    {
     "name": "stdout",
     "output_type": "stream",
     "text": [
      "x =\n",
      "\n",
      "   1.00000\n",
      "   1.00000\n",
      "   1.00000\n",
      "   1.00000\n",
      "\n",
      "conditional =  2984.1\n"
     ]
    }
   ],
   "source": [
    "# Solve the system A * x = b and find the conditional number\n",
    "\n",
    "x = A \\ b\n",
    "conditional = cond(A)"
   ]
  },
  {
   "cell_type": "code",
   "execution_count": 4,
   "metadata": {},
   "outputs": [
    {
     "name": "stdout",
     "output_type": "stream",
     "text": [
      "x_tilde =\n",
      "\n",
      "    9.2000\n",
      "  -12.6000\n",
      "    4.5000\n",
      "   -1.1000\n",
      "\n"
     ]
    }
   ],
   "source": [
    "# Solve the system A * x_tilde = b_tilde\n",
    "x_tilde = A \\ b_tilde"
   ]
  },
  {
   "cell_type": "code",
   "execution_count": 5,
   "metadata": {},
   "outputs": [
    {
     "name": "stdout",
     "output_type": "stream",
     "text": [
      "input_rel_error =  0.0033319\n",
      "output_rel_error =  8.1985\n",
      "estimated_conditional =  2460.6\n"
     ]
    }
   ],
   "source": [
    "input_rel_error = norm(b - b_tilde) / norm(b)\n",
    "output_rel_error = norm(x - x_tilde) / norm(x)\n",
    "\n",
    "estimated_conditional = output_rel_error / input_rel_error"
   ]
  },
  {
   "cell_type": "code",
   "execution_count": 6,
   "metadata": {},
   "outputs": [
    {
     "name": "stdout",
     "output_type": "stream",
     "text": [
      "A_prime =\n",
      "\n",
      "   10.0000    7.0000    8.1000    7.2000\n",
      "    7.0800    5.0400    6.0000    5.0000\n",
      "    8.0000    5.9800    9.8900    9.0000\n",
      "    6.9900    4.9900    9.0000    9.9800\n",
      "\n"
     ]
    }
   ],
   "source": [
    "A_prime = [10, 7, 8.1, 7.2;\n",
    "           7.08, 5.04, 6, 5;\n",
    "           8, 5.98, 9.89, 9;\n",
    "           6.99, 4.99, 9, 9.98;]"
   ]
  },
  {
   "cell_type": "code",
   "execution_count": 21,
   "metadata": {},
   "outputs": [
    {
     "name": "stdout",
     "output_type": "stream",
     "text": [
      "x_prime =\n",
      "\n",
      "   -81.000\n",
      "   137.000\n",
      "   -34.000\n",
      "    22.000\n",
      "\n",
      "conditional =  147314.52386\n"
     ]
    }
   ],
   "source": [
    "x_prime = A_prime \\ b\n",
    "conditional = cond(A_prime)"
   ]
  },
  {
   "cell_type": "code",
   "execution_count": 22,
   "metadata": {},
   "outputs": [
    {
     "name": "stdout",
     "output_type": "stream",
     "text": [
      "input_rel_error =  0.0076209\n",
      "output_rel_error =  81.985\n",
      "estimated_conditional =  10757.88299\n"
     ]
    }
   ],
   "source": [
    "input_rel_error = norm(A - A_prime) / norm(A)\n",
    "output_rel_error = norm(x - x_prime) / norm(x)\n",
    "\n",
    "estimated_conditional = output_rel_error / input_rel_error"
   ]
  },
  {
   "cell_type": "code",
   "execution_count": 25,
   "metadata": {},
   "outputs": [
    {
     "name": "stdout",
     "output_type": "stream",
     "text": [
      "ans =    1.6025e+13\n",
      "ans =    5.2252e+14\n",
      "ans =    1.8026e+16\n",
      "ans =    1.1722e+18\n",
      "ans =    4.8924e+17\n",
      "ans =    1.1054e+18\n"
     ]
    }
   ],
   "source": [
    "# Problem 3\n",
    "\n",
    "# Hilbert matrices\n",
    "for n = 10:15\n",
    "    H_n = hilb(n);\n",
    "    cond(H_n)\n",
    "endfor"
   ]
  },
  {
   "cell_type": "code",
   "execution_count": 26,
   "metadata": {},
   "outputs": [
    {
     "name": "stdout",
     "output_type": "stream",
     "text": [
      "ans =    1.5929e+11\n",
      "ans =    6.0334e+12\n",
      "ans =    2.4982e+14\n",
      "ans =    1.1604e+16\n",
      "ans =    1.1547e+18\n",
      "ans =    1.8378e+17\n"
     ]
    }
   ],
   "source": [
    "# Vandermonde matrices\n",
    "for n = 10:15\n",
    "    V = vander(1 ./ (1:n));\n",
    "    cond(V)\n",
    "endfor"
   ]
  },
  {
   "cell_type": "code",
   "execution_count": null,
   "metadata": {},
   "outputs": [],
   "source": []
  }
 ],
 "metadata": {
  "kernelspec": {
   "display_name": "Octave",
   "language": "octave",
   "name": "octave"
  },
  "language_info": {
   "file_extension": ".m",
   "help_links": [
    {
     "text": "GNU Octave",
     "url": "https://www.gnu.org/software/octave/support.html"
    },
    {
     "text": "Octave Kernel",
     "url": "https://github.com/Calysto/octave_kernel"
    },
    {
     "text": "MetaKernel Magics",
     "url": "https://github.com/calysto/metakernel/blob/master/metakernel/magics/README.md"
    }
   ],
   "mimetype": "text/x-octave",
   "name": "octave",
   "version": "4.4.0"
  }
 },
 "nbformat": 4,
 "nbformat_minor": 2
}
