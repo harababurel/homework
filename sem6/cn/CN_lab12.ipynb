{
 "cells": [
  {
   "cell_type": "code",
   "execution_count": 322,
   "metadata": {},
   "outputs": [],
   "source": [
    "# Bisection + false position method\n",
    "function result = find_root(f, a, b, iterations, err, method)\n",
    "    if !strcmp(method, \"bisection\")\n",
    "        c = (a + b) / 2;\n",
    "    elseif !strcmp(method, \"false_position\")\n",
    "        c = (a * f(b) - b * f(a)) / (f(b) - f(a));\n",
    "    else\n",
    "        return;\n",
    "    endif\n",
    "\n",
    "    if iterations == 0 || (b - a) / a < err\n",
    "        result = c;\n",
    "    elseif f(a) * f(c) <= 0\n",
    "        result = find_root(f, a, c, iterations-1, err, method);\n",
    "    else\n",
    "        result = find_root(f, c, b, iterations-1, err, method);\n",
    "    endif\n",
    "endfunction"
   ]
  },
  {
   "cell_type": "code",
   "execution_count": 323,
   "metadata": {},
   "outputs": [],
   "source": [
    "# Secant method\n",
    "function result = secant(f, x0, x1, iterations, err)\n",
    "    for i=1:iterations    \n",
    "        if abs((x1 - x0) / x0) < err\n",
    "            result = x1;\n",
    "            return\n",
    "        endif\n",
    "        \n",
    "        x2 = x1 - (x1 - x0) / (f(x1) - f(x0)) * f(x1);\n",
    "        x0 = x1;\n",
    "        x1 = x2;\n",
    "    endfor\n",
    "    \n",
    "    result = x2;\n",
    "endfunction"
   ]
  },
  {
   "cell_type": "code",
   "execution_count": 324,
   "metadata": {},
   "outputs": [],
   "source": [
    "# Newton method\n",
    "function result = newton(f, f_prime, x0, iterations, err)\n",
    "    for i=1:iterations    \n",
    "        x1 = x0 - f(x0) / f_prime(x0);        \n",
    "        if abs((x1 - x0) / x0) < err\n",
    "            result = x1;\n",
    "            return\n",
    "        endif\n",
    "        \n",
    "        x0 = x1;\n",
    "    endfor\n",
    "    \n",
    "    result = x1;\n",
    "endfunction"
   ]
  },
  {
   "cell_type": "code",
   "execution_count": 325,
   "metadata": {},
   "outputs": [
    {
     "name": "stdout",
     "output_type": "stream",
     "text": [
      "root =  1.4656\n",
      "error: -0.000000000014714\n"
     ]
    }
   ],
   "source": [
    "f = @(x) x^3 - x^2 - 1;\n",
    "\n",
    "root = secant(f, 1, 2, 100, 1e-6)\n",
    "printf(\"error: %.15f\\n\", f(root))"
   ]
  },
  {
   "cell_type": "code",
   "execution_count": 326,
   "metadata": {},
   "outputs": [
    {
     "name": "stdout",
     "output_type": "stream",
     "text": [
      "root =  0.73910\n",
      "error: 0.000020876099460\n",
      "root =  0.73909\n",
      "error: 0.000000000000000\n",
      "root =  0.73909\n",
      "error: 0.000000000000001\n"
     ]
    }
   ],
   "source": [
    "f = @(x) x - cos(x);\n",
    "\n",
    "root = find_root(f, 0.5, pi/4, 100, 1e-4, \"false_position\")\n",
    "printf(\"error: %.15f\\n\", f(root))\n",
    "root = find_root(f, 0.5, pi/4, 100, 1e-4, \"bisection\")\n",
    "printf(\"error: %.15f\\n\", f(root))\n",
    "\n",
    "\n",
    "f_prime = @(x) sin(x) + 1;\n",
    "root = newton(f, f_prime, pi/4, 100, 1e-4)\n",
    "printf(\"error: %.15f\\n\", f(root))"
   ]
  },
  {
   "cell_type": "code",
   "execution_count": 327,
   "metadata": {},
   "outputs": [
    {
     "name": "stdout",
     "output_type": "stream",
     "text": [
      "root =  1.4124\n",
      "error: -0.000044027052837\n",
      "root =  1.4124\n",
      "error: -0.000000000000000\n"
     ]
    }
   ],
   "source": [
    "f = @(x) (x-2)^2 - log(x);\n",
    "\n",
    "root = find_root(f, 1, 2, 100, 1e-4, \"false_position\")\n",
    "printf(\"error: %.15f\\n\", f(root))\n",
    "root = find_root(f, 1, 2, 100, 1e-4, \"bisection\")\n",
    "printf(\"error: %.15f\\n\", f(root))"
   ]
  }
 ],
 "metadata": {
  "kernelspec": {
   "display_name": "Octave",
   "language": "octave",
   "name": "octave"
  },
  "language_info": {
   "file_extension": ".m",
   "help_links": [
    {
     "text": "GNU Octave",
     "url": "https://www.gnu.org/software/octave/support.html"
    },
    {
     "text": "Octave Kernel",
     "url": "https://github.com/Calysto/octave_kernel"
    },
    {
     "text": "MetaKernel Magics",
     "url": "https://github.com/calysto/metakernel/blob/master/metakernel/magics/README.md"
    }
   ],
   "mimetype": "text/x-octave",
   "name": "octave",
   "version": "4.4.0"
  }
 },
 "nbformat": 4,
 "nbformat_minor": 2
}
