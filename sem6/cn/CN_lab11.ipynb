{
 "cells": [
  {
   "cell_type": "code",
   "execution_count": 106,
   "metadata": {},
   "outputs": [
    {
     "name": "stdout",
     "output_type": "stream",
     "text": [
      "A =\n",
      "\n",
      "   3  -1   0   0   0   0\n",
      "  -1   3  -1   0   0   0\n",
      "   0  -1   3  -1   0   0\n",
      "   0   0  -1   3  -1   0\n",
      "   0   0   0  -1   3  -1\n",
      "   0   0   0   0  -1   3\n",
      "\n",
      "b =\n",
      "\n",
      "   2\n",
      "   1\n",
      "   1\n",
      "   1\n",
      "   1\n",
      "   2\n",
      "\n"
     ]
    }
   ],
   "source": [
    "A = [3 -1  0  0  0  0;\n",
    "    -1  3 -1  0  0  0;\n",
    "     0 -1  3 -1  0  0;\n",
    "     0  0 -1  3 -1  0;\n",
    "     0  0  0 -1  3 -1;\n",
    "     0  0  0  0 -1  3]\n",
    "    \n",
    "b = [2;1;1;1;1;2]"
   ]
  },
  {
   "cell_type": "code",
   "execution_count": 124,
   "metadata": {},
   "outputs": [],
   "source": [
    "function result = approximation(A, b, eps)\n",
    "    x = rand(size(b));\n",
    "    \n",
    "    for iteration = 1:1e5\n",
    "        new_x = zeros(size(x));\n",
    "        for i = 1:size(A)\n",
    "            new_x(i) = (b(i) - A(i, :) * x + A(i, i) * x(i)) / A(i, i);\n",
    "        endfor\n",
    "        \n",
    "        if norm(x - new_x) < eps\n",
    "            printf(\"Needed %d iterations to converge\\n\", iteration);\n",
    "            result = new_x;\n",
    "            return;\n",
    "        endif\n",
    "        \n",
    "        x = new_x;\n",
    "    endfor\n",
    "endfunction"
   ]
  },
  {
   "cell_type": "code",
   "execution_count": 127,
   "metadata": {},
   "outputs": [
    {
     "name": "stdout",
     "output_type": "stream",
     "text": [
      "Needed 23 iterations to converge\n",
      "ans =\n",
      "\n",
      "   1.00000\n",
      "   1.00000\n",
      "   0.99999\n",
      "   0.99999\n",
      "   1.00000\n",
      "   1.00000\n",
      "\n"
     ]
    }
   ],
   "source": [
    "approximation(A, b, 1e-5)"
   ]
  },
  {
   "cell_type": "code",
   "execution_count": 160,
   "metadata": {},
   "outputs": [],
   "source": [
    "function result = artificial_approximation(A, b, eps)\n",
    "    M = diag(diag(A));\n",
    "    N = M - A;\n",
    "    \n",
    "    T = M \\ N;\n",
    "    c = M \\ b;\n",
    "\n",
    "    x = rand(size(b));\n",
    "    for iteration = 1:1e5\n",
    "        new_x = T * x + c;\n",
    "        \n",
    "        if norm(x - new_x) < eps * (1 - norm(T)) / norm(T)\n",
    "            printf(\"Needed %d iterations to converge\\n\", iteration);\n",
    "            result = new_x;\n",
    "            return;\n",
    "        endif\n",
    "        \n",
    "        x = new_x;\n",
    "    endfor\n",
    "endfunction"
   ]
  },
  {
   "cell_type": "code",
   "execution_count": 161,
   "metadata": {},
   "outputs": [
    {
     "name": "stdout",
     "output_type": "stream",
     "text": [
      "Needed 28 iterations to converge\n",
      "ans =\n",
      "\n",
      "   1.00000\n",
      "   1.00000\n",
      "   1.00000\n",
      "   1.00000\n",
      "   1.00000\n",
      "   1.00000\n",
      "\n"
     ]
    }
   ],
   "source": [
    "artificial_approximation(A, b, 1e-6)"
   ]
  },
  {
   "cell_type": "code",
   "execution_count": null,
   "metadata": {},
   "outputs": [],
   "source": []
  }
 ],
 "metadata": {
  "kernelspec": {
   "display_name": "Octave",
   "language": "octave",
   "name": "octave"
  },
  "language_info": {
   "file_extension": ".m",
   "help_links": [
    {
     "text": "GNU Octave",
     "url": "https://www.gnu.org/software/octave/support.html"
    },
    {
     "text": "Octave Kernel",
     "url": "https://github.com/Calysto/octave_kernel"
    },
    {
     "text": "MetaKernel Magics",
     "url": "https://github.com/calysto/metakernel/blob/master/metakernel/magics/README.md"
    }
   ],
   "mimetype": "text/x-octave",
   "name": "octave",
   "version": "4.4.0"
  }
 },
 "nbformat": 4,
 "nbformat_minor": 2
}
